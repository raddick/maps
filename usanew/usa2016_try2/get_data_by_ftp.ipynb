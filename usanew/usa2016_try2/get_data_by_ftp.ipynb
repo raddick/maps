{
 "cells": [
  {
   "cell_type": "code",
   "execution_count": null,
   "metadata": {},
   "outputs": [],
   "source": [
    "from ftplib import FTP\n",
    "import os\n",
    "import numpy as np\n",
    "import pandas\n",
    "\n",
    "local_dir = '/home/idies/workspace/raddick_census/'\n",
    "data_dir = local_dir + 'pop2016/'\n",
    "\n",
    "if not (os.getcwd() == local_dir):\n",
    "    os.chdir(local_dir)\n",
    "if not (os.path.exists(data_dir)):\n",
    "    os.makedirs(data_dir)\n",
    "os.chdir(data_dir)\n",
    "print('In directory: '+os.getcwd())\n"
   ]
  },
  {
   "cell_type": "code",
   "execution_count": null,
   "metadata": {},
   "outputs": [],
   "source": [
    "ftp = FTP('ftp2.census.gov')\n",
    "ftp.login()\n",
    "print(ftp.getwelcome())\n",
    "ftp.cwd('programs-surveys/popest/datasets/2010-2016/counties/asrh/')\n",
    "print(ftp.dir())\n",
    "thefilename = 'cc-est2016-alldata.csv'\n",
    "print(thefilename)\n",
    "with open(thefilename, 'wb') as f:\n",
    "    ftp.retrbinary('RETR {0:}'.format(thefilename), f.write)\n",
    "ftp.quit()\n",
    "print('Done')\n",
    "\n",
    "#https://www2.census.gov/programs-surveys/popest/datasets/2010-2016/counties/totals/\n",
    "#co-est2016-alldata.csv"
   ]
  },
  {
   "cell_type": "code",
   "execution_count": null,
   "metadata": {
    "collapsed": true,
    "scrolled": false
   },
   "outputs": [],
   "source": [
    "#import zipfile\n",
    "#print('Reading zipfile...')\n",
    "#thezipfile = zipfile.ZipFile('All_Geographies.zip')\n",
    "#print('Extracting files...')\n",
    "#thezipfile.extractall()\n",
    "#thezipfile.close()\n",
    "#print('Done')"
   ]
  },
  {
   "cell_type": "code",
   "execution_count": null,
   "metadata": {},
   "outputs": [],
   "source": [
    "pop2016_df = pandas.read_csv('sub-est2016_all.csv', encoding='utf-8')\n",
    "#pop2016_df[pop2016_df['SUMLEV'] == 50]\n",
    "#print(pop2016_df.columns)\n",
    "showcolumns = ['SUMLEV', 'STATE', 'COUNTY', 'PLACE']\n",
    "showcolumns += ['PRIMGEO_FLAG', 'FUNCSTAT', 'NAME', 'POPESTIMATE2016']\n",
    "\n",
    "\n",
    "#pop2016_df[['SUMLEV','STATE','COUNTY','PLACE','COUSUB','NAME','STNAME','POPESTIMATE2016']].sample(3)\n",
    "#pop2016_df[showcolumns][pop2016_df['SUMLEV'] == 50]\n",
    "print('ok')"
   ]
  },
  {
   "cell_type": "code",
   "execution_count": null,
   "metadata": {},
   "outputs": [],
   "source": [
    "#pop2016_df['PSEUDO_GEOID'] = data_df['STUSAB'].str.upper() + data_df['LOGRECNO'].apply(lambda x: '{0:07d}'.format(x))\n",
    "counties = pop2016_df[pop2016_df['SUMLEV'] == 50]\n",
    "counties['GEOID'] = counties['SUMLEV'].apply(lambda x: '{:03d}'.format(x)) + '0000US' +  counties['STATE'].apply(lambda x: '{:02d}'.format(x)) + counties['COUNTY'].apply(lambda x: '{:03d}'.format(x)) \n",
    "#counties[showcolumns]\n",
    "counties = counties.set_index('GEOID')\n",
    "counties[showcolumns]"
   ]
  },
  {
   "cell_type": "code",
   "execution_count": null,
   "metadata": {
    "collapsed": true
   },
   "outputs": [],
   "source": [
    "counties['NAME'][counties['STATE'] == 36]\n"
   ]
  },
  {
   "cell_type": "code",
   "execution_count": null,
   "metadata": {},
   "outputs": [],
   "source": [
    "counties_out = counties[(counties['STATE'] == 6) & (counties['COUNTY'] == 37)]\n",
    "counties_out = counties_out.append(counties[(counties['STATE'] == 6) & (counties['COUNTY'] == 71)])\n",
    "counties_out = counties_out.append(counties[(counties['STATE'] == 6) & (counties['COUNTY'] == 65)])\n",
    "counties_out = counties_out.append(counties[(counties['STATE'] == 17) & (counties['COUNTY'] == 43)])\n",
    "counties_out = counties_out.append(counties[(counties['STATE'] == 34) & (counties['COUNTY'] == 5)])\n",
    "counties_out = counties_out.append(counties[(counties['STATE'] == 34) & (counties['COUNTY'] == 21)])\n",
    "counties_out = counties_out.append(counties[(counties['STATE'] == 36) & (counties['COUNTY'] == 83)])\n",
    "counties_out = counties_out.append(counties[(counties['STATE'] == 36) & (counties['COUNTY'] == 119)])\n",
    "\n",
    "counties_out['NAME']"
   ]
  },
  {
   "cell_type": "code",
   "execution_count": null,
   "metadata": {},
   "outputs": [],
   "source": [
    "print(len(counties))\n",
    "\n",
    "counties = counties.drop(counties_out.index, axis=0)\n",
    "print(len(counties))"
   ]
  },
  {
   "cell_type": "code",
   "execution_count": null,
   "metadata": {},
   "outputs": [],
   "source": [
    "place1_df = pop2016_df[(pop2016_df['SUMLEV'] == 157) & (pop2016_df['STATE'] == 6) & (pop2016_df['COUNTY'] == 37)]\n",
    "place1_df = place1_df.append(pop2016_df[(pop2016_df['SUMLEV'] == 157) & (pop2016_df['STATE'] == 6) & (pop2016_df['COUNTY'] == 71)])\n",
    "place1_df = place1_df.append(pop2016_df[(pop2016_df['SUMLEV'] == 157) & (pop2016_df['STATE'] == 6) & (pop2016_df['COUNTY'] == 65)])\n",
    "\n",
    "\n",
    "place1_df['GEOID'] = place1_df['SUMLEV'].apply(lambda x: '{:03d}'.format(x)) + '00US' +  place1_df['STATE'].apply(lambda x: '{:02d}'.format(x)) + place1_df['PLACE'].apply(lambda x: '{:05d}'.format(x)) \n",
    "place1_df = place1_df.set_index('GEOID')\n",
    "\n",
    "place1_df.loc['15700US0600394']"
   ]
  },
  {
   "cell_type": "code",
   "execution_count": null,
   "metadata": {},
   "outputs": [],
   "source": [
    "illinois_list = [5248, 23620, 54534, 35307, 9980]\n",
    "illinois_list += [82985, 37907, 243, 77993, 44407]\n",
    "illinois_list += [80645, 14572, 18628, 20591, 6587]\n",
    "illinois_list += [29730, 29756, 11332, 81048, 43939]\n",
    "illinois_list += [83245, 82400]\n",
    "\n",
    "place2_df = pop2016_df[(pop2016_df['SUMLEV'] == 162) & (pop2016_df['STATE'] == 17) & (pop2016_df['PLACE'].apply(lambda x: x in illinois_list))]\n",
    "\n",
    "place2_df['GEOID'] = place2_df['SUMLEV'].apply(lambda x: '{:03d}'.format(x)) + '00US' +  place2_df['STATE'].apply(lambda x: '{:02d}'.format(x)) + place2_df['PLACE'].apply(lambda x: '{:05d}'.format(x)) \n",
    "place2_df = place2_df.set_index('GEOID')\n",
    "\n",
    "place2_df\n"
   ]
  },
  {
   "cell_type": "code",
   "execution_count": null,
   "metadata": {},
   "outputs": [],
   "source": [
    "njlist = [6700, 8950, 12670, 12940, 17440, 20050, 22110, 23850, 29010, 42060]\n",
    "njlist += [43290, 43740, 45120, 47880, 48900, 49020, 51510, 53070, 55800, 57510]\n",
    "njlist += [63510, 66810, 68610, 72060, 78200, 81440, 19780, 22185, 29280, 33120]\n",
    "njlist += [39450, 60900, 63850, 74000, 80240]\n",
    "\n",
    "cousub_df = pop2016_df[(pop2016_df['SUMLEV'] == 61) & (pop2016_df['STATE'] == 34) & pop2016_df['COUSUB'].apply(lambda x: x in njlist)]\n",
    "\n",
    "\n",
    "nylist = [84000, 50617, 49121, 81677, 56979,64309, 5320, 18410, 21820, 30367]\n",
    "nylist += [32413, 42136, 44842, 48895, 49011, 50078, 51693, 53517, 55541, 57012]\n",
    "nylist += [59685, 64320, 65442, 68308, 84077]\n",
    "\n",
    "cousub_df = cousub_df.append(pop2016_df[(pop2016_df['SUMLEV'] == 61) & (pop2016_df['STATE'] == 36) & pop2016_df['COUSUB'].apply(lambda x: x in nylist)])\n",
    "\n",
    "cousub_df['GEOID'] = cousub_df['SUMLEV'].apply(lambda x: '{:03d}'.format(x)) + '00US' +  cousub_df['STATE'].apply(lambda x: '{:02d}'.format(x)) + cousub_df['COUSUB'].apply(lambda x: '{:05d}'.format(x)) \n",
    "cousub_df = cousub_df.set_index('GEOID')\n",
    "cousub_df"
   ]
  },
  {
   "cell_type": "code",
   "execution_count": null,
   "metadata": {},
   "outputs": [],
   "source": [
    "df = pandas.DataFrame()\n",
    "df = df.append(counties)\n",
    "df = df.append(place1_df)\n",
    "df = df.append(place2_df)\n",
    "df = df.append(cousub_df)\n",
    "df"
   ]
  },
  {
   "cell_type": "code",
   "execution_count": null,
   "metadata": {},
   "outputs": [],
   "source": [
    "len(df)"
   ]
  },
  {
   "cell_type": "code",
   "execution_count": null,
   "metadata": {},
   "outputs": [],
   "source": [
    "df.groupby('SUMLEV').size()"
   ]
  },
  {
   "cell_type": "code",
   "execution_count": null,
   "metadata": {
    "collapsed": true
   },
   "outputs": [],
   "source": []
  }
 ],
 "metadata": {
  "kernelspec": {
   "display_name": "Python 3",
   "language": "python",
   "name": "python3"
  },
  "language_info": {
   "codemirror_mode": {
    "name": "ipython",
    "version": 3
   },
   "file_extension": ".py",
   "mimetype": "text/x-python",
   "name": "python",
   "nbconvert_exporter": "python",
   "pygments_lexer": "ipython3",
   "version": "3.6.1"
  }
 },
 "nbformat": 4,
 "nbformat_minor": 2
}
