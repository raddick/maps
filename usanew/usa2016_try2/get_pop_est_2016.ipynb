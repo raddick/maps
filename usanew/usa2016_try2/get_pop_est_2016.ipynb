{
 "cells": [
  {
   "cell_type": "code",
   "execution_count": 1,
   "metadata": {},
   "outputs": [
    {
     "data": {
      "text/plain": [
       "'/home/idies/workspace/raddick_census/pop2016'"
      ]
     },
     "execution_count": 1,
     "metadata": {},
     "output_type": "execute_result"
    }
   ],
   "source": [
    "import os\n",
    "import pandas\n",
    "import warnings\n",
    "warnings.filterwarnings(\"ignore\")\n",
    "\n",
    "datadir = '/home/idies/workspace/raddick_census/pop2016'\n",
    "os.chdir(datadir)\n",
    "\n",
    "os.getcwd()"
   ]
  },
  {
   "cell_type": "code",
   "execution_count": 17,
   "metadata": {},
   "outputs": [
    {
     "data": {
      "text/html": [
       "<div>\n",
       "<style>\n",
       "    .dataframe thead tr:only-child th {\n",
       "        text-align: right;\n",
       "    }\n",
       "\n",
       "    .dataframe thead th {\n",
       "        text-align: left;\n",
       "    }\n",
       "\n",
       "    .dataframe tbody tr th {\n",
       "        vertical-align: top;\n",
       "    }\n",
       "</style>\n",
       "<table border=\"1\" class=\"dataframe\">\n",
       "  <thead>\n",
       "    <tr style=\"text-align: right;\">\n",
       "      <th></th>\n",
       "      <th>SUMLEV</th>\n",
       "      <th>STATE</th>\n",
       "      <th>COUNTY</th>\n",
       "      <th>STNAME</th>\n",
       "      <th>CENSUS2010POP</th>\n",
       "      <th>ESTIMATESBASE2010</th>\n",
       "      <th>POPESTIMATE2010</th>\n",
       "      <th>POPESTIMATE2011</th>\n",
       "      <th>POPESTIMATE2012</th>\n",
       "      <th>POPESTIMATE2013</th>\n",
       "      <th>POPESTIMATE2014</th>\n",
       "      <th>POPESTIMATE2015</th>\n",
       "      <th>POPESTIMATE2016</th>\n",
       "    </tr>\n",
       "    <tr>\n",
       "      <th>GEOID</th>\n",
       "      <th></th>\n",
       "      <th></th>\n",
       "      <th></th>\n",
       "      <th></th>\n",
       "      <th></th>\n",
       "      <th></th>\n",
       "      <th></th>\n",
       "      <th></th>\n",
       "      <th></th>\n",
       "      <th></th>\n",
       "      <th></th>\n",
       "      <th></th>\n",
       "      <th></th>\n",
       "    </tr>\n",
       "  </thead>\n",
       "  <tbody>\n",
       "    <tr>\n",
       "      <th>05000US01001</th>\n",
       "      <td>50</td>\n",
       "      <td>1</td>\n",
       "      <td>1</td>\n",
       "      <td>Alabama</td>\n",
       "      <td>54571</td>\n",
       "      <td>54571</td>\n",
       "      <td>54742</td>\n",
       "      <td>55255</td>\n",
       "      <td>55027</td>\n",
       "      <td>54792</td>\n",
       "      <td>54977</td>\n",
       "      <td>55035</td>\n",
       "      <td>55416</td>\n",
       "    </tr>\n",
       "  </tbody>\n",
       "</table>\n",
       "</div>"
      ],
      "text/plain": [
       "              SUMLEV  STATE  COUNTY   STNAME CENSUS2010POP  ESTIMATESBASE2010  \\\n",
       "GEOID                                                                           \n",
       "05000US01001      50      1       1  Alabama         54571              54571   \n",
       "\n",
       "              POPESTIMATE2010  POPESTIMATE2011  POPESTIMATE2012  \\\n",
       "GEOID                                                             \n",
       "05000US01001            54742            55255            55027   \n",
       "\n",
       "              POPESTIMATE2013  POPESTIMATE2014  POPESTIMATE2015  \\\n",
       "GEOID                                                             \n",
       "05000US01001            54792            54977            55035   \n",
       "\n",
       "              POPESTIMATE2016  \n",
       "GEOID                          \n",
       "05000US01001            55416  "
      ]
     },
     "execution_count": 17,
     "metadata": {},
     "output_type": "execute_result"
    }
   ],
   "source": [
    "counties = pandas.read_csv('co-est2016-alldata.csv', encoding='utf-8')\n",
    "counties = counties[counties['SUMLEV'] == 50]\n",
    "counties['GEOID'] = counties['SUMLEV'].apply(lambda x: '{:03d}'.format(x)) + '00US' +  counties['STATE'].apply(lambda x: '{:02d}'.format(x)) + counties['COUNTY'].apply(lambda x: '{:03d}'.format(x)) \n",
    "counties = counties.set_index('GEOID')\n",
    "\n",
    "counties_out = pandas.DataFrame()\n",
    "counties_out = counties_out.append(counties[(counties['STATE'] == 6) & (counties['COUNTY'].apply(lambda x: x in [37, 71, 59]))])\n",
    "counties_out = counties_out.append(counties[(counties['STATE'] == 34) & (counties['COUNTY'] == 5)])\n",
    "counties_out = counties_out.append(counties[(counties['STATE'] == 36) & (counties['COUNTY'] == 119)])\n",
    "counties_out = counties_out.append(counties[(counties['STATE'] == 17) & (counties['COUNTY'].apply(lambda x: x in [31, 43, 89, 93, 197]))])\n",
    "counties = counties.drop(counties_out.index, axis=0)\n",
    "\n",
    "\n",
    "subdivs = pandas.read_csv('sub-est2016_all.csv', encoding='utf-8')\n",
    "\n",
    "# California (state 6): Los Angeles (37), Orange (59), San Bernardino (71)\n",
    "# New Jersey (state 34): Burlington (5)\n",
    "# New York (state 36): Westchester (19)\n",
    "# Illinois (state 17): Cook (31), DuPage (43), Kane (89), Kendall (93), Will (197)\n",
    "\n",
    "ca = subdivs[(subdivs['PRIMGEO_FLAG'] == 1) & (subdivs['STATE'] == 6) & (subdivs['COUNTY'].apply(lambda x: x in [37, 59, 71]))]\n",
    "ca['GEOID'] = ''\n",
    "\n",
    "ca['GEOID'] = ca['SUMLEV'].apply(lambda x: '{:03d}'.format(x)).astype('str') + '06US' + ca['PLACE'].apply(lambda x: '{:05d}'.format(x)).astype('str')\n",
    "\n",
    "ca.loc[ca['PLACE'] == 99990, 'GEOID'] = ca['SUMLEV'].apply(lambda x: '{:03d}'.format(x)).astype('str') + '00US' + ca['STATE'].apply(lambda x: '{:02d}'.format(x)).astype('str') + ca['COUNTY'].apply(lambda x: '{:02d}'.format(x)).astype('str') + 'x'\n",
    "#ca['GEOID'] = ca['SUMLEV'].apply(lambda x: '{:03d}'.format(x)).astype('str') + '6' + ca['COUNTY'].apply(lambda x: '{:02d}'.format(x)).astype('str') + 'U' + ca['PLACE'].apply(lambda x: '{:05d}'.format(x)).astype('str')\n",
    "\n",
    "#ca.loc[(ca['SUMLEV'] == 157) & (ca['FUNCSTAT'] == 'F'), 'GEOID'] = ca['SUMLEV'].apply(lambda x: '{:03d}'.format(x)) + '00US' + subdivs['STATE'].apply(lambda x: '{:02d}'.format(x)) + ca['COUNTY'].apply(lambda x: '{:03d}'.format(x)) + 'xx'\n",
    "ca = ca.set_index('GEOID')\n",
    "\n",
    "nj = subdivs[(subdivs['PRIMGEO_FLAG'] == 1) & (subdivs['STATE'] == 34) & (subdivs['COUNTY'].apply(lambda x: x in [5]))]\n",
    "nj['GEOID'] = nj['SUMLEV'].apply(lambda x: '{:02d}'.format(x)).astype('str') + '345US' + nj['COUSUB'].apply(lambda x: '{:05d}'.format(x)).astype('str')\n",
    "nj = nj.set_index('GEOID')\n",
    "\n",
    "ny = subdivs[(subdivs['PRIMGEO_FLAG'] == 1) & (subdivs['STATE'] == 36) & (subdivs['COUNTY'].apply(lambda x: x in [119]))]\n",
    "ny['GEOID'] = ny['SUMLEV'].apply(lambda x: '{:02d}'.format(x)).astype('str') + '36119' + ny['COUSUB'].apply(lambda x: '{:05d}'.format(x)).astype('str')\n",
    "ny = ny.set_index('GEOID')\n",
    "\n",
    "il = subdivs[(subdivs['PRIMGEO_FLAG'] == 1) & (subdivs['STATE'] == 17) & (subdivs['COUNTY'].apply(lambda x: x in [31, 43, 89, 93, 197]))]\n",
    "\n",
    "il['GEOID'] = il['SUMLEV'].apply(lambda x: '{:03d}'.format(x)).astype('str') + '17PL' + il['PLACE'].apply(lambda x: '{:05d}'.format(x)).astype('str')\n",
    "\n",
    "il.loc[(il['PLACE'] == 99990), 'GEOID'] = il['SUMLEV'].apply(lambda x: '{:03d}'.format(x)).astype('str') + '17CS' + il['COUSUB'].apply(lambda x: '{:05d}'.format(x)).astype('str')\n",
    "il.loc[(il['SUMLEV'] == 61), 'GEOID'] = il['SUMLEV'].apply(lambda x: '{:03d}'.format(x)).astype('str') + '17CS' + il['COUSUB'].apply(lambda x: '{:05d}'.format(x)).astype('str')\n",
    "il = il.set_index('GEOID')\n",
    "\n",
    "\n",
    "df = pandas.DataFrame()\n",
    "df = df.append(counties)\n",
    "df = df.append(ca)\n",
    "df = df.append(nj)\n",
    "df = df.append(ny)\n",
    "df = df.append(il)\n",
    "\n",
    "#df.sample(20)\n",
    "show_columns = ['SUMLEV', 'STATE', 'COUNTY', 'STNAME']\n",
    "show_columns += ['CENSUS2010POP', 'ESTIMATESBASE2010', 'POPESTIMATE2010']\n",
    "show_columns += ['POPESTIMATE2011', 'POPESTIMATE2012', 'POPESTIMATE2013']\n",
    "show_columns += ['POPESTIMATE2014', 'POPESTIMATE2015', 'POPESTIMATE2016']\n",
    "df[show_columns].head(1)"
   ]
  },
  {
   "cell_type": "code",
   "execution_count": 33,
   "metadata": {},
   "outputs": [
    {
     "data": {
      "text/plain": [
       "GEOID        object\n",
       "state_new    object\n",
       "dtype: object"
      ]
     },
     "execution_count": 33,
     "metadata": {},
     "output_type": "execute_result"
    }
   ],
   "source": [
    "new = pandas.read_csv('newstates.csv', dtype='str', low_memory=False)\n",
    "new.dtypes\n",
    "#new = new.set_index('GEOID')\n",
    "\n",
    "#df[show_columns]\n",
    "#df['POPESTIMATE2016'].sum()\n",
    "\n",
    "#df = df.join(new, how='left', rsuffix='yyy')\n",
    "#df[show_columns].head(1)\n",
    "#df.groupby('state_new')['POPESTIMATE2016'].sum()"
   ]
  },
  {
   "cell_type": "code",
   "execution_count": null,
   "metadata": {
    "collapsed": true,
    "scrolled": true
   },
   "outputs": [],
   "source": [
    "#counties = counties.set_index('GEOID')\n",
    "\n",
    "# California (state 6): Los Angeles (37), Orange (59), San Bernardino (71)\n",
    "# Illinois (state 17): Cook (31), DuPage (43), Kane (89), Kendall (93), Will (197)\n",
    "# New Jersey (state 34): Burlington (5)\n",
    "# New York (state 36): Westchester (19)\n",
    "\n",
    "subdivs = pandas.DataFrame()\n",
    "ca = pop2016_df[(pop2016_df['PRIMGEO_FLAG'] == 1) & (pop2016_df['STATE'] == 6) & (pop2016_df['COUNTY'].apply(lambda x: x in [37, 59, 71]))]\n",
    "il = pop2016_df[(pop2016_df['PRIMGEO_FLAG'] == 1) & (pop2016_df['STATE'] == 17) & (pop2016_df['COUNTY'].apply(lambda x: x in [31, 43, 89, 93, 197]))]\n",
    "nj = pop2016_df[(pop2016_df['PRIMGEO_FLAG'] == 1) & (pop2016_df['STATE'] == 34) & (pop2016_df['COUNTY'].apply(lambda x: x in [5]))]\n",
    "ny = pop2016_df[(pop2016_df['PRIMGEO_FLAG'] == 1) & (pop2016_df['STATE'] == 36) & (pop2016_df['COUNTY'].apply(lambda x: x in [119]))]\n",
    "\n",
    "subdivs = subdivs.append(ca)\n",
    "subdivs = subdivs.append(il)\n",
    "subdivs = subdivs.append(nj)\n",
    "subdivs = subdivs.append(ny)\n",
    "\n",
    "subdivs['GEOID'] = 'fill this in'\n",
    "\n",
    "subdivs.loc[(subdivs['SUMLEV'] == 157) & (subdivs['FUNCSTAT'] == 'A'), 'GEOID'] = subdivs['SUMLEV'].apply(lambda x: '{:03d}'.format(x)) + '00US' + subdivs['STATE'].apply(lambda x: '{:02d}'.format(x)) + subdivs['PLACE'].apply(lambda x: '{:05d}'.format(x))\n",
    "subdivs.loc[(subdivs['SUMLEV'] == 157) & (subdivs['FUNCSTAT'] == 'F'), 'GEOID'] = subdivs['SUMLEV'].apply(lambda x: '{:03d}'.format(x)) + '00US' + subdivs['STATE'].apply(lambda x: '{:02d}'.format(x)) + subdivs['COUNTY'].apply(lambda x: '{:03d}'.format(x)) + 'xx'\n",
    "\n",
    "#subdivs.loc[(subdivs['SUMLEV'] == 61), 'GEOID'] = subdivs['SUMLEV'].apply(lambda x: '{:02d}'.format(x)) + subdivs['STATE'].apply(lambda x: '{:02d}'.format(x)) + subdivs['COUNTY'].apply(lambda x: '{:03d}'.format(x)) + 'US' + subdivs['COUSUB'].apply(lambda x: '{:05d}'.format(x))\n",
    "#subdivs.loc[(subdivs['SUMLEV'] == 71) & (subdivs['FUNCSTAT'] == 'A'), 'GEOID'] = subdivs['SUMLEV'].apply(lambda x: '{:02d}'.format(x)) + subdivs['STATE'].apply(lambda x: '{:02d}'.format(x)) + subdivs['COUNTY'].apply(lambda x: '{:03d}'.format(x)) + 'US' + subdivs['PLACE'].apply(lambda x: '{:05d}'.format(x))\n",
    "#subdivs.loc[(subdivs['SUMLEV'] == 71) & (subdivs['FUNCSTAT'] == 'F'), 'GEOID'] = subdivs['SUMLEV'].apply(lambda x: '{:02d}'.format(x)) + subdivs['STATE'].apply(lambda x: '{:02d}'.format(x)) + subdivs['COUNTY'].apply(lambda x: '{:03d}'.format(x)) + 'US' + subdivs['COUSUB'].apply(lambda x: '{:05d}'.format(x))\n",
    "#subdivs.loc[(subdivs['SUMLEV'] == 71) & (subdivs['FUNCSTAT'] == 'S'), 'GEOID'] = subdivs['SUMLEV'].apply(lambda x: '{:02d}'.format(x)) + subdivs['STATE'].apply(lambda x: '{:02d}'.format(x)) + subdivs['COUNTY'].apply(lambda x: '{:03d}'.format(x)) + 'US' + subdivs['PLACE'].apply(lambda x: '{:05d}'.format(x))\n",
    "\n",
    "#subdivs.loc[(subdivs['STATE'] == 36), 'GEOID'] = subdivs['SUMLEV'].apply(lambda x: '{:02d}'.format(x)) + subdivs['STATE'].apply(lambda x: '{:02d}'.format(x)) + subdivs['COUNTY'].apply(lambda x: '{:03d}'.format(x)) + 'US' + subdivs['COUSUB'].apply(lambda x: '{:05d}'.format(x))\n",
    "\n",
    "#subdivs.loc[((subdivs['SUMLEV'] == 61) | (subdivs['SUMLEV'] == 71)) & (subdivs['FUNCSTAT'] == 'A'), 'GEOID'] = '06171US' + subdivs['STATE'].apply(lambda x: '{:02d}'.format(x)) + subdivs['PLACE'].apply(lambda x: '{:05d}'.format(x))\n",
    "#subdivs.loc[((subdivs['SUMLEV'] == 61) | (subdivs['SUMLEV'] == 71)) & (subdivs['FUNCSTAT'] != 'A'), 'GEOID'] = '06171US' + subdivs['STATE'].apply(lambda x: '{:02d}'.format(x)) + subdivs['PLACE'].apply(lambda x: '{:05d}'.format(x)) + 'FICT'\n",
    "\n",
    "\n",
    "#subdivs.loc[subdivs['SUMLEV'] == 61, 'GEOID'] = subdivs['SUMLEV'].apply(lambda x: '{:02d}'.format(x)) + 'US' + subdivs['STATE'].apply(lambda x: '{:02d}'.format(x)) + subdivs['COUNTY'].apply(lambda x: '{:03d}'.format(x)) + subdivs['COUSUB'].apply(lambda x: '{:05d}'.format(x))\n",
    "\n",
    "#subdivs.loc[(subdivs['SUMLEV'] == 71) & (subdivs['FUNCSTAT'] == 'A'), 'GEOID'] = subdivs['SUMLEV'].apply(lambda x: '{:03d}'.format(x)) + '00US' + subdivs['STATE'].apply(lambda x: '{:02d}'.format(x)) + subdivs['PLACE'].apply(lambda x: '{:05d}'.format(x))\n",
    "#subdivs.loc[(subdivs['SUMLEV'] == 71) & (subdivs['FUNCSTAT'] == 'F'), 'GEOID'] = subdivs['SUMLEV'].apply(lambda x: '{:03d}'.format(x)) + 'xxUS' + subdivs['STATE'].apply(lambda x: '{:02d}'.format(x)) + subdivs['COUNTY'].apply(lambda x: '{:03d}'.format(x)) + subdivs['COUSUB'].apply(lambda x: '{:03d}'.format(x))\n",
    "#subdivs.loc[(subdivs['SUMLEV'] == 71) & (subdivs['FUNCSTAT'] == 'S'), 'GEOID'] = subdivs['SUMLEV'].apply(lambda x: '{:03d}'.format(x)) + 'xxUS' + subdivs['STATE'].apply(lambda x: '{:02d}'.format(x)) + subdivs['COUNTY'].apply(lambda x: '{:03d}'.format(x)) + subdivs['COUSUB'].apply(lambda x: '{:03d}'.format(x))\n",
    "\n",
    "#subdivs.loc[subdivs['FUNCSTAT'].apply(lambda x: x in ['F','S']), 'GEOID'] = 'FICT' + subdivs['GEOID']\n",
    "\n",
    "#subdivs.loc[((subdivs['PLACE'] == 99990) & (subdivs['SUMLEV'] == 157)), 'GEOID'] = subdivs['SUMLEV'].apply(lambda x: '{:03d}'.format(x)) + 'US' + subdivs['STATE'].apply(lambda x: '{:02d}'.format(x)) + subdivs['COUNTY'].apply(lambda x: '{:03d}'.format(x)) + '9999'\n",
    "#subdivs = subdivs.set_index('GEOID')\n",
    "\n",
    "df = pandas.DataFrame()\n",
    "df = df.append(counties)\n",
    "df = df.append(subdivs)\n",
    "df = df.set_index('GEOID', drop=False)\n",
    "\n",
    "#newstates_df = pandas.read_csv('newstates.csv', index_col='GEOID')\n",
    "\n",
    "#df = df.join(newstates_df)\n",
    "\n",
    "#showcolumns = ['SUMLEV', 'STNAME', 'NAME', 'state_new', 'POPESTIMATE2016']\n",
    "#showcolumns = ['SUMLEV', 'STNAME', 'COUNTY', 'NAME', 'PRIMGEO_FLAG', 'FUNCSTAT', 'POPESTIMATE2016']\n",
    "showcolumns = ['SUMLEV', 'STNAME', 'COUNTY', 'NAME', 'PLACE', 'COUSUB', 'POPESTIMATE2016']\n",
    "\n",
    "print('OK')"
   ]
  },
  {
   "cell_type": "code",
   "execution_count": null,
   "metadata": {
    "collapsed": true
   },
   "outputs": [],
   "source": [
    "\n",
    "#pop2016_df[showcolumns][(pop2016_df['STATE'] == 17) & (pop2016_df['COUNTY'] == 197) & (pop2016_df['SUMLEV'] == 50)]\n",
    "# LA, CA: 10,137,915\n",
    "\n",
    "# Burlington County, NJ: 449,284 - 71 does not add up!; 61: 40; 157: 10\n",
    "# Westchester County, NY: 974,542 - 71 does not add up!; 61: 25; 157: 30\n",
    "\n",
    "# Cook County, IL: 5,203,499 - 61: 31; 71: 243; 157: 138\n",
    "# DuPage County, IL: 929,368 - 61: 10; 71: 79; 157: 40\n",
    "# Kane County, IL: 531,715 - 61: 16; 71: 75; 157: 31\n",
    "# Kendall County, IL: 124,695 - 61: 9; 71: 31; 157: 15\n",
    "# Will County, IL: 689,529 - 71 does not add up!; 61: 24; 71: 99; 157: 40\n",
    "\n",
    "#### DECISIONS\n",
    "# California: use 157s\n",
    "# New Jersey: use 61s\n",
    "# New York: try both?\n",
    "# Illinois: probably 61s, try 157s also?\n",
    "\n",
    "pop2016_df[(pop2016_df['STATE'] == 36) & (pop2016_df['COUNTY'] == 119) & (pop2016_df['SUMLEV'] != 50)].groupby('SUMLEV')['POPESTIMATE2016'].sum()\n",
    "\n",
    "#pop2016_df[showcolumns][(pop2016_df['STATE'] == 17) & (pop2016_df['COUNTY'] == 197) & (pop2016_df['SUMLEV'] != 50)].groupby('SUMLEV').size()\n",
    "#SUMLEV\n",
    "#61      31\n",
    "#71     243\n",
    "#157    138\n",
    "#SUMLEV\n",
    "#61     5203499\n",
    "#71     5203499\n",
    "#157    5203499\n",
    "\n",
    "# Illinois (state 17): Cook (31), DuPage (43), Kane (89), Kendall (93), Will (197)\n",
    "\n",
    "#pop2016_df[showcolumns][(pop2016_df['STATE'] == 6) & (pop2016_df['COUNTY'] == 37) & (pop2016_df['SUMLEV'] == 157)].groupby('PLACE').size()"
   ]
  },
  {
   "cell_type": "code",
   "execution_count": null,
   "metadata": {
    "collapsed": true
   },
   "outputs": [],
   "source": [
    "il61 = pop2016_df[(pop2016_df['SUMLEV'] == 61) & (pop2016_df['PRIMGEO_FLAG'] == 1) & (pop2016_df['STATE'] == 17) & (pop2016_df['COUNTY'].apply(lambda x: x in [31,43,89,93,197]))]\n",
    "il71 = pop2016_df[(pop2016_df['SUMLEV'] == 71) & (pop2016_df['PRIMGEO_FLAG'] == 1) & (pop2016_df['STATE'] == 17) & (pop2016_df['COUNTY'].apply(lambda x: x in [31,43,89,93,197]))]\n",
    "il157 = pop2016_df[(pop2016_df['SUMLEV'] == 157) & (pop2016_df['STATE'] == 17) & (pop2016_df['COUNTY'].apply(lambda x: x in [31,43,89,93,197]))]\n",
    "#nj.to_csv('nj.csv')\n",
    "il61.to_csv('il61.csv')\n",
    "il71.to_csv('il71.csv')\n",
    "il157.to_csv('il157.csv')"
   ]
  },
  {
   "cell_type": "code",
   "execution_count": null,
   "metadata": {
    "collapsed": true
   },
   "outputs": [],
   "source": [
    "ca157 = pop2016_df[(pop2016_df['SUMLEV'] == 157) & (pop2016_df['STATE'] == 6) & (pop2016_df['COUNTY'].apply(lambda x: x in [31,43,89,93,197]))]\n"
   ]
  },
  {
   "cell_type": "code",
   "execution_count": null,
   "metadata": {
    "collapsed": true
   },
   "outputs": [],
   "source": [
    "pop2016_df[pop2016_df['STATE'] == 6]"
   ]
  },
  {
   "cell_type": "code",
   "execution_count": null,
   "metadata": {
    "collapsed": true
   },
   "outputs": [],
   "source": []
  }
 ],
 "metadata": {
  "kernelspec": {
   "display_name": "Python 3",
   "language": "python",
   "name": "python3"
  },
  "language_info": {
   "codemirror_mode": {
    "name": "ipython",
    "version": 3
   },
   "file_extension": ".py",
   "mimetype": "text/x-python",
   "name": "python",
   "nbconvert_exporter": "python",
   "pygments_lexer": "ipython3",
   "version": "3.6.1"
  }
 },
 "nbformat": 4,
 "nbformat_minor": 2
}
