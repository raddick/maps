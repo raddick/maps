{
 "cells": [
  {
   "cell_type": "code",
   "execution_count": null,
   "metadata": {},
   "outputs": [],
   "source": [
    "import os\n",
    "import pandas\n",
    "import warnings\n",
    "from IPython.display import display, HTML\n",
    "warnings.filterwarnings(\"ignore\")\n",
    "\n",
    "datadir = '/home/idies/workspace/raddick_census/pop2016'\n",
    "os.chdir(datadir)\n",
    "\n",
    "os.getcwd()"
   ]
  },
  {
   "cell_type": "code",
   "execution_count": null,
   "metadata": {},
   "outputs": [],
   "source": [
    "counties = pandas.read_csv('co-est2016-alldata.csv', encoding='utf-8')\n",
    "counties = counties[counties['SUMLEV'] == 50]\n",
    "counties['GEOID'] = counties['SUMLEV'].apply(lambda x: '{:03d}'.format(x)) + '00US' +  counties['STATE'].apply(lambda x: '{:02d}'.format(x)) + counties['COUNTY'].apply(lambda x: '{:03d}'.format(x)) \n",
    "counties = counties.set_index('GEOID')\n",
    "\n",
    "counties_out = pandas.DataFrame()\n",
    "counties_out = counties_out.append(counties[(counties['STATE'] == 6) & (counties['COUNTY'].apply(lambda x: x in [37, 59, 71]))])\n",
    "counties_out = counties_out.append(counties[(counties['STATE'] == 34) & (counties['COUNTY'] == 5)])\n",
    "counties_out = counties_out.append(counties[(counties['STATE'] == 36) & (counties['COUNTY'] == 119)])\n",
    "counties_out = counties_out.append(counties[(counties['STATE'] == 17) & (counties['COUNTY'].apply(lambda x: x in [31, 43, 89, 93, 197]))])\n",
    "counties = counties.drop(counties_out.index, axis=0)\n",
    "\n",
    "\n",
    "subdivs = pandas.read_csv('sub-est2016_all.csv', encoding='utf-8')\n",
    "\n",
    "# California (state 6): Los Angeles (37), Orange (59), San Bernardino (71)\n",
    "# New Jersey (state 34): Burlington (5)\n",
    "# New York (state 36): Westchester (19)\n",
    "# Illinois (state 17): Cook (31), DuPage (43), Kane (89), Kendall (93), Will (197)\n",
    "\n",
    "ca = subdivs[(subdivs['PRIMGEO_FLAG'] == 1) & (subdivs['STATE'] == 6) & (subdivs['COUNTY'].apply(lambda x: x in [37, 59, 71]))]\n",
    "ca['GEOID'] = ''\n",
    "\n",
    "ca['GEOID'] = ca['SUMLEV'].apply(lambda x: '{:03d}'.format(x)).astype('str') + '06US' + ca['PLACE'].apply(lambda x: '{:05d}'.format(x)).astype('str')\n",
    "\n",
    "ca.loc[ca['PLACE'] == 99990, 'GEOID'] = ca['SUMLEV'].apply(lambda x: '{:03d}'.format(x)).astype('str') + '00US' + ca['STATE'].apply(lambda x: '{:02d}'.format(x)).astype('str') + ca['COUNTY'].apply(lambda x: '{:02d}'.format(x)).astype('str') + 'x'\n",
    "#ca['GEOID'] = ca['SUMLEV'].apply(lambda x: '{:03d}'.format(x)).astype('str') + '6' + ca['COUNTY'].apply(lambda x: '{:02d}'.format(x)).astype('str') + 'U' + ca['PLACE'].apply(lambda x: '{:05d}'.format(x)).astype('str')\n",
    "\n",
    "#ca.loc[(ca['SUMLEV'] == 157) & (ca['FUNCSTAT'] == 'F'), 'GEOID'] = ca['SUMLEV'].apply(lambda x: '{:03d}'.format(x)) + '00US' + subdivs['STATE'].apply(lambda x: '{:02d}'.format(x)) + ca['COUNTY'].apply(lambda x: '{:03d}'.format(x)) + 'xx'\n",
    "ca = ca.set_index('GEOID')\n",
    "\n",
    "nj = subdivs[(subdivs['PRIMGEO_FLAG'] == 1) & (subdivs['STATE'] == 34) & (subdivs['COUNTY'].apply(lambda x: x in [5]))]\n",
    "nj['GEOID'] = nj['SUMLEV'].apply(lambda x: '{:02d}'.format(x)).astype('str') + '345US' + nj['COUSUB'].apply(lambda x: '{:05d}'.format(x)).astype('str')\n",
    "nj = nj.set_index('GEOID')\n",
    "\n",
    "ny = subdivs[(subdivs['PRIMGEO_FLAG'] == 1) & (subdivs['STATE'] == 36) & (subdivs['COUNTY'].apply(lambda x: x in [119]))]\n",
    "ny['GEOID'] = ny['SUMLEV'].apply(lambda x: '{:02d}'.format(x)).astype('str') + '36119' + ny['COUSUB'].apply(lambda x: '{:05d}'.format(x)).astype('str')\n",
    "ny = ny.set_index('GEOID')\n",
    "\n",
    "il = subdivs[(subdivs['PRIMGEO_FLAG'] == 1) & (subdivs['STATE'] == 17) & (subdivs['COUNTY'].apply(lambda x: x in [31, 43, 89, 93, 197]))]\n",
    "\n",
    "il['GEOID'] = il['SUMLEV'].apply(lambda x: '{:03d}'.format(x)).astype('str') + '17PL' + il['PLACE'].apply(lambda x: '{:05d}'.format(x)).astype('str')\n",
    "\n",
    "il.loc[(il['PLACE'] == 99990), 'GEOID'] = il['SUMLEV'].apply(lambda x: '{:03d}'.format(x)).astype('str') + '17CS' + il['COUSUB'].apply(lambda x: '{:05d}'.format(x)).astype('str')\n",
    "il.loc[(il['SUMLEV'] == 61), 'GEOID'] = il['SUMLEV'].apply(lambda x: '{:03d}'.format(x)).astype('str') + '17CS' + il['COUSUB'].apply(lambda x: '{:05d}'.format(x)).astype('str')\n",
    "il = il.set_index('GEOID')\n",
    "\n",
    "\n",
    "df = pandas.DataFrame()\n",
    "df = df.append(counties)\n",
    "df = df.append(ca)\n",
    "df = df.append(nj)\n",
    "df = df.append(ny)\n",
    "df = df.append(il)\n",
    "\n",
    "#df.sample(20)\n",
    "show_columns = ['SUMLEV', 'STATE', 'COUNTY', 'STNAME']\n",
    "show_columns += ['CENSUS2010POP', 'ESTIMATESBASE2010', 'POPESTIMATE2010']\n",
    "show_columns += ['POPESTIMATE2011', 'POPESTIMATE2012', 'POPESTIMATE2013']\n",
    "show_columns += ['POPESTIMATE2014', 'POPESTIMATE2015', 'POPESTIMATE2016']\n",
    "\n",
    "new = pandas.read_csv('newstates.csv', dtype={'GEOID': object, 'state_new': object}, low_memory=False)\n",
    "new = new.set_index('GEOID')\n",
    "\n",
    "df = df.join(new, how='left')\n",
    "#df[show_columns]\n",
    "\n",
    "df['NAME'] = df['NAME'].fillna(df['CTYNAME'])\n",
    "\n",
    "df.loc[df['CENSUS2010POP'] == 'A', 'CENSUS2010POP'] = 0\n",
    "df['CENSUS2010POP'] = pandas.to_numeric(df['CENSUS2010POP'])\n",
    "df['change_since_2010'] = df['POPESTIMATE2016'] - df['CENSUS2010POP']\n",
    "#df['percent_change_since_2010'] = ((df['POPESTIMATE2016'] - df['CENSUS2010POP']) / df['CENSUS2010POP'])\n",
    "\n",
    "#show_columns = ['NAME', 'POPESTIMATE2016', 'STATE', 'SUMLEV', 'state_new', 'percent_change_since_2010']\n",
    "\n",
    "df.groupby('state_new')[['CENSUS2010POP', 'POPESTIMATE2016', 'change_since_2010']].sum()"
   ]
  },
  {
   "cell_type": "code",
   "execution_count": null,
   "metadata": {},
   "outputs": [],
   "source": [
    "df[show_columns].sample(10)\n"
   ]
  },
  {
   "cell_type": "code",
   "execution_count": null,
   "metadata": {},
   "outputs": [],
   "source": [
    "df['NAME'] = df['NAME'].fillna(df['CTYNAME'])\n",
    "\n",
    "df.loc[df['CENSUS2010POP'] == 'A', 'CENSUS2010POP'] = 0\n",
    "df['CENSUS2010POP'] = pandas.to_numeric(df['CENSUS2010POP'])\n",
    "df['change_since_2010'] = df['POPESTIMATE2016'] - df['CENSUS2010POP']\n",
    "\n",
    "\n",
    "\n",
    "show_columns = ['NAME', 'POPESTIMATE2016', 'STATE', 'SUMLEV', 'state_new', 'change_since_2010']\n",
    "\n",
    "df[show_columns].sample(10)"
   ]
  },
  {
   "cell_type": "code",
   "execution_count": null,
   "metadata": {},
   "outputs": [],
   "source": [
    "\n",
    "df[show_columns]"
   ]
  },
  {
   "cell_type": "code",
   "execution_count": null,
   "metadata": {
    "collapsed": true
   },
   "outputs": [],
   "source": []
  }
 ],
 "metadata": {
  "kernelspec": {
   "display_name": "Python 3",
   "language": "python",
   "name": "python3"
  },
  "language_info": {
   "codemirror_mode": {
    "name": "ipython",
    "version": 3
   },
   "file_extension": ".py",
   "mimetype": "text/x-python",
   "name": "python",
   "nbconvert_exporter": "python",
   "pygments_lexer": "ipython3",
   "version": "3.6.1"
  }
 },
 "nbformat": 4,
 "nbformat_minor": 2
}
