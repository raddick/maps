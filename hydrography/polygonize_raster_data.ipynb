{
 "cells": [
  {
   "cell_type": "code",
   "execution_count": 1,
   "metadata": {},
   "outputs": [
    {
     "name": "stdout",
     "output_type": "stream",
     "text": [
      "ok\n"
     ]
    }
   ],
   "source": [
    "import os\n",
    "import time\n",
    "from osgeo import gdal\n",
    "import ogr\n",
    "import numpy as np\n",
    "import geopandas\n",
    "g = 0\n",
    "\n",
    "data_dir = '/home/idies/workspace/Temporary/raddick/hydrography_scratch/'\n",
    "\n",
    "print('ok')"
   ]
  },
  {
   "cell_type": "code",
   "execution_count": 2,
   "metadata": {},
   "outputs": [
    {
     "name": "stdout",
     "output_type": "stream",
     "text": [
      "\n",
      "Read raster file in 0 minutes 0 seconds!\n"
     ]
    }
   ],
   "source": [
    "s = time.time()\n",
    "raster = gdal.Open(data_dir+'elevation_void_filled/na_dem_30s/na_dem_30s/w001001.adf')\n",
    "#print(raster.RasterCount)\n",
    "band = raster.GetRasterBand(1)\n",
    "e = time.time()\n",
    "print('\\nRead raster file in {0:,.0f} minutes {1:,.0f} seconds!'.format(np.floor((e-s)/60), (e-s)%60))"
   ]
  },
  {
   "cell_type": "code",
   "execution_count": 13,
   "metadata": {},
   "outputs": [
    {
     "name": "stdout",
     "output_type": "stream",
     "text": [
      "{}\n"
     ]
    }
   ],
   "source": [
    "print(raster.GetMetadata())"
   ]
  },
  {
   "cell_type": "code",
   "execution_count": null,
   "metadata": {},
   "outputs": [],
   "source": [
    "s = time.time()\n",
    "drv = ogr.GetDriverByName('ESRI Shapefile')\n",
    "outfile = drv.CreateDataSource(data_dir+'elevation_void_filled/na_dem_30s/na_dem_30s_polygonized.shp')\n",
    "outlayer = outfile.CreateLayer('polygonized raster', srs = None )\n",
    "newField = ogr.FieldDefn('DN', ogr.OFTReal)\n",
    "outlayer.CreateField(newField)\n",
    "# #print('Done')\n",
    "# #data_dir+'hydrobasins_with_lakes/hybas_lake_na_lev01-12_v1c/hybas_lake_na_lev01_v1c.shp'\n",
    "\n",
    "gdal.Polygonize(band, None, outlayer, 0, [])\n",
    "outfile = None\n",
    "e = time.time()\n",
    "g = g + (e-s)\n",
    "print('\\nWrote shapefile in {0:,.0f} minutes {1:,.0f} seconds!'.format(np.floor((e-s)/60), (e-s)%60))\n",
    "# Wrote shapefile in 17 minutes 17 seconds!"
   ]
  },
  {
   "cell_type": "code",
   "execution_count": null,
   "metadata": {},
   "outputs": [],
   "source": [
    "s = time.time()\n",
    "gdf = geopandas.read_file(data_dir+'elevation_void_filled/na_dem_30s/na_dem_30s_polygonized.shp')\n",
    "e = time.time()\n",
    "g = g + (e-s)\n",
    "print('\\nDone in {0:,.0f} minutes {1:,.0f} seconds!'.format(np.floor((e-s)/60), (e-s)%60))\n",
    "# Done in 49 minutes 43 seconds!"
   ]
  },
  {
   "cell_type": "code",
   "execution_count": null,
   "metadata": {},
   "outputs": [],
   "source": [
    "gdf.plot()"
   ]
  },
  {
   "cell_type": "code",
   "execution_count": null,
   "metadata": {},
   "outputs": [],
   "source": []
  }
 ],
 "metadata": {
  "kernelspec": {
   "display_name": "Python 3.8 (py38)",
   "language": "python",
   "name": "py38"
  },
  "language_info": {
   "codemirror_mode": {
    "name": "ipython",
    "version": 3
   },
   "file_extension": ".py",
   "mimetype": "text/x-python",
   "name": "python",
   "nbconvert_exporter": "python",
   "pygments_lexer": "ipython3",
   "version": "3.8.5"
  }
 },
 "nbformat": 4,
 "nbformat_minor": 4
}
