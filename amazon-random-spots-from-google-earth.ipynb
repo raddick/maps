{
 "cells": [
  {
   "cell_type": "code",
   "execution_count": 22,
   "metadata": {},
   "outputs": [
    {
     "name": "stdout",
     "output_type": "stream",
     "text": [
      "ok\n"
     ]
    }
   ],
   "source": [
    "import numpy as np\n",
    "import pandas\n",
    "import geopandas\n",
    "import os\n",
    "from shapely.geometry import Point\n",
    "\n",
    "thisdir = '/home/idies/workspace/Storage/raddick/jordanraddick.com/'\n",
    "shapefiledir = thisdir+'brazil-shapefiles/'\n",
    "print('ok')"
   ]
  },
  {
   "cell_type": "code",
   "execution_count": 46,
   "metadata": {
    "scrolled": false
   },
   "outputs": [
    {
     "name": "stdout",
     "output_type": "stream",
     "text": [
      "http://maps.google.com/maps?ll=-5.067,-72.552&spn=0.250,0.250&t=k\n",
      "http://maps.google.com/maps?ll=-7.067,-72.552&spn=0.250,0.250&t=k\n",
      "http://maps.google.com/maps?ll=-6.567,-72.552&spn=0.250,0.250&t=k\n",
      "http://maps.google.com/maps?ll=-6.067,-72.552&spn=0.250,0.250&t=k\n",
      "http://maps.google.com/maps?ll=-5.567,-72.552&spn=0.250,0.250&t=k\n",
      "http://maps.google.com/maps?ll=-5.067,-72.052&spn=0.250,0.250&t=k\n",
      "http://maps.google.com/maps?ll=-7.067,-72.052&spn=0.250,0.250&t=k\n",
      "http://maps.google.com/maps?ll=-6.567,-72.052&spn=0.250,0.250&t=k\n",
      "http://maps.google.com/maps?ll=-6.067,-72.052&spn=0.250,0.250&t=k\n",
      "http://maps.google.com/maps?ll=-5.567,-72.052&spn=0.250,0.250&t=k\n",
      "http://maps.google.com/maps?ll=-5.067,-72.052&spn=0.250,0.250&t=k\n",
      "http://maps.google.com/maps?ll=-7.067,-72.052&spn=0.250,0.250&t=k\n",
      "http://maps.google.com/maps?ll=-6.567,-72.052&spn=0.250,0.250&t=k\n",
      "http://maps.google.com/maps?ll=-6.067,-72.052&spn=0.250,0.250&t=k\n",
      "http://maps.google.com/maps?ll=-5.567,-72.052&spn=0.250,0.250&t=k\n",
      "http://maps.google.com/maps?ll=-5.067,-72.052&spn=0.250,0.250&t=k\n",
      "http://maps.google.com/maps?ll=-7.067,-72.052&spn=0.250,0.250&t=k\n",
      "http://maps.google.com/maps?ll=-6.567,-72.052&spn=0.250,0.250&t=k\n",
      "http://maps.google.com/maps?ll=-6.067,-72.052&spn=0.250,0.250&t=k\n",
      "http://maps.google.com/maps?ll=-5.567,-72.052&spn=0.250,0.250&t=k\n",
      "http://maps.google.com/maps?ll=-5.067,-72.052&spn=0.250,0.250&t=k\n",
      "http://maps.google.com/maps?ll=-7.067,-72.052&spn=0.250,0.250&t=k\n",
      "http://maps.google.com/maps?ll=-6.567,-72.052&spn=0.250,0.250&t=k\n",
      "http://maps.google.com/maps?ll=-6.067,-72.052&spn=0.250,0.250&t=k\n",
      "http://maps.google.com/maps?ll=-5.567,-72.052&spn=0.250,0.250&t=k\n"
     ]
    }
   ],
   "source": [
    "gdf = geopandas.read_file(shapefiledir+'bra_admbnda_adm1_ibge_2020.shp')\n",
    "amazonas_geo = gdf[gdf['ADM1_PT'] == 'Amazonas'].geometry.values[0]\n",
    "xgrid_raw = np.arange(amazonas_geo.bounds[0], amazonas_geo.bounds[2], 0.5)\n",
    "ygrid_raw = np.arange(amazonas_geo.bounds[1], amazonas_geo.bounds[3], 0.5)\n",
    "\n",
    "xgrid = []\n",
    "ygrid = []\n",
    "for thisx in xgrid_raw:\n",
    "    for thisy in ygrid_raw:\n",
    "        thispoint = Point(thisx,thisy)\n",
    "        if (amazonas_geo.contains(thispoint)):\n",
    "            xgrid.append(thisx)\n",
    "            ygrid.append(thisy)\n",
    "#             xgrid.append(thisx)\n",
    "#             ygrid.append(thisy)\n",
    "#amazonas_geo.coords[]      \n",
    "\n",
    "for x in xgrid[5:10]:\n",
    "    for y in ygrid[5:10]:\n",
    "        print('http://maps.google.com/maps?ll={1:.3f},{0:.3f}&spn={2:.3f},{3:.3f}&t=k'.format(x+0.25, y+0.25, 0.25, 0.25))\n",
    "\n"
   ]
  },
  {
   "cell_type": "code",
   "execution_count": null,
   "metadata": {},
   "outputs": [],
   "source": []
  }
 ],
 "metadata": {
  "kernelspec": {
   "display_name": "Python 3.8 (py38)",
   "language": "python",
   "name": "py38"
  },
  "language_info": {
   "codemirror_mode": {
    "name": "ipython",
    "version": 3
   },
   "file_extension": ".py",
   "mimetype": "text/x-python",
   "name": "python",
   "nbconvert_exporter": "python",
   "pygments_lexer": "ipython3",
   "version": "3.8.5"
  }
 },
 "nbformat": 4,
 "nbformat_minor": 4
}
